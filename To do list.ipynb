{
 "cells": [
  {
   "cell_type": "code",
   "execution_count": 1,
   "id": "7aa3a43e-e84f-4c3a-8de3-9d81b53b44e4",
   "metadata": {},
   "outputs": [],
   "source": [
    "import tkinter as tk\n",
    "from tkinter import messagebox\n",
    "\n",
    "# Function to add a task\n",
    "def add_task():\n",
    "    task = entry_task.get()\n",
    "    if task != \"\":\n",
    "        listbox_tasks.insert(tk.END, task)\n",
    "        entry_task.delete(0, tk.END)\n",
    "    else:\n",
    "        messagebox.showwarning(\"Input Error\", \"Please enter a task.\")\n",
    "\n",
    "# Function to delete the selected task\n",
    "def delete_task():\n",
    "    try:\n",
    "        selected_task_index = listbox_tasks.curselection()[0]\n",
    "        listbox_tasks.delete(selected_task_index)\n",
    "    except IndexError:\n",
    "        messagebox.showwarning(\"Delete Error\", \"Please select a task to delete.\")\n",
    "\n",
    "# Function to mark task as done (crossed)\n",
    "def mark_done():\n",
    "    try:\n",
    "        selected_index = listbox_tasks.curselection()[0]\n",
    "        task_text = listbox_tasks.get(selected_index)\n",
    "        listbox_tasks.delete(selected_index)\n",
    "        listbox_tasks.insert(tk.END, f\"✔ {task_text}\")\n",
    "    except IndexError:\n",
    "        messagebox.showwarning(\"Mark Error\", \"Please select a task to mark as done.\")\n",
    "\n",
    "# Main GUI window\n",
    "window = tk.Tk()\n",
    "window.title(\"Simple To-Do List\")\n",
    "window.geometry(\"400x400\")\n",
    "window.config(bg=\"Sky Blue\")\n",
    "\n",
    "# Entry widget\n",
    "entry_task = tk.Entry(window, width=35, font=(\"Arial\", 12))\n",
    "entry_task.pack(pady=10)\n",
    "\n",
    "# Add button\n",
    "button_add = tk.Button(window, text=\"Add Task\", width=15, command=add_task, bg=\"Light Green\")\n",
    "button_add.pack(pady=5)\n",
    "\n",
    "# Listbox to display tasks\n",
    "listbox_tasks = tk.Listbox(window, width=40, height=10, font=(\"Arial\", 12), selectbackground=\"Green\")\n",
    "listbox_tasks.pack(pady=10)\n",
    "\n",
    "# Done and Delete buttons\n",
    "button_done = tk.Button(window, text=\"Mark as Done\", width=15, command=mark_done, bg=\"Yellow\")\n",
    "button_done.pack(pady=5)\n",
    "\n",
    "button_delete = tk.Button(window, text=\"Delete Task\", width=15, command=delete_task, bg=\"Red\")\n",
    "button_delete.pack(pady=5)\n",
    "\n",
    "# Run the application\n",
    "window.mainloop()"
   ]
  },
  {
   "cell_type": "code",
   "execution_count": null,
   "id": "d93d7cd1-cd97-4c13-a138-0e87fe71cf22",
   "metadata": {},
   "outputs": [],
   "source": []
  }
 ],
 "metadata": {
  "kernelspec": {
   "display_name": "Python 3 (ipykernel)",
   "language": "python",
   "name": "python3"
  },
  "language_info": {
   "codemirror_mode": {
    "name": "ipython",
    "version": 3
   },
   "file_extension": ".py",
   "mimetype": "text/x-python",
   "name": "python",
   "nbconvert_exporter": "python",
   "pygments_lexer": "ipython3",
   "version": "3.13.5"
  }
 },
 "nbformat": 4,
 "nbformat_minor": 5
}
